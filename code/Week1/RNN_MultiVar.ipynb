{
 "cells": [
  {
   "cell_type": "code",
   "execution_count": 43,
   "metadata": {},
   "outputs": [
    {
     "name": "stdout",
     "output_type": "stream",
     "text": [
      "2.0.0-alpha0\n"
     ]
    }
   ],
   "source": [
    "from __future__ import absolute_import, division, print_function, unicode_literals\n",
    "import tensorflow as tf\n",
    "import requests\n",
    "from io import StringIO\n",
    "import matplotlib as mpl\n",
    "import matplotlib.pyplot as plt\n",
    "import numpy as np\n",
    "import os\n",
    "import pandas as pd\n",
    "from matplotlib import pyplot\n",
    "from sklearn.preprocessing import StandardScaler\n",
    "from sklearn.metrics import mean_squared_error\n",
    "import matplotlib.dates as dates\n",
    "print(tf.__version__)"
   ]
  },
  {
   "cell_type": "markdown",
   "metadata": {},
   "source": [
    "Print tensorflow version import train data"
   ]
  },
  {
   "cell_type": "code",
   "execution_count": 84,
   "metadata": {},
   "outputs": [
    {
     "name": "stdout",
     "output_type": "stream",
     "text": [
      "            Brazil  Canada  France  Germany  Italy  Jamaica  Japan  \\\n",
      "Date                                                                 \n",
      "2020-01-22       0       0       0        0      0        0      2   \n",
      "2020-01-23       0       0       0        0      0        0      1   \n",
      "2020-01-24       0       0       2        0      0        0      2   \n",
      "2020-01-25       0       0       3        0      0        0      2   \n",
      "2020-01-26       0       1       3        0      0        0      4   \n",
      "2020-01-27       0       1       3        1      0        0      4   \n",
      "2020-01-28       0       2       4        4      0        0      7   \n",
      "2020-01-29       0       2       5        4      0        0      7   \n",
      "2020-01-30       0       2       5        4      0        0     11   \n",
      "2020-01-31       0       4       5        5      2        0     15   \n",
      "2020-02-01       0       4       6        8      2        0     20   \n",
      "2020-02-02       0       4       6       10      2        0     20   \n",
      "2020-02-03       0       4       6       12      2        0     20   \n",
      "2020-02-04       0       4       6       12      2        0     22   \n",
      "2020-02-05       0       5       6       12      2        0     22   \n",
      "2020-02-06       0       5       6       12      2        0     45   \n",
      "2020-02-07       0       7       6       13      3        0     25   \n",
      "2020-02-08       0       7      11       13      3        0     25   \n",
      "2020-02-09       0       7      11       14      3        0     26   \n",
      "2020-02-10       0       7      11       14      3        0     26   \n",
      "2020-02-11       0       7      11       16      3        0     26   \n",
      "2020-02-12       0       7      11       16      3        0     28   \n",
      "2020-02-13       0       7      11       16      3        0     28   \n",
      "2020-02-14       0       7      11       16      3        0     29   \n",
      "2020-02-15       0       7      12       16      3        0     43   \n",
      "2020-02-16       0       7      12       16      3        0     59   \n",
      "2020-02-17       0       8      12       16      3        0     66   \n",
      "2020-02-18       0       8      12       16      3        0     74   \n",
      "2020-02-19       0       8      12       16      3        0     84   \n",
      "2020-02-20       0       8      12       16      3        0     94   \n",
      "2020-02-21       0       9      12       16     20        0    105   \n",
      "2020-02-22       0       9      12       16     62        0    122   \n",
      "2020-02-23       0       9      12       16    155        0    147   \n",
      "2020-02-24       0      10      12       16    229        0    159   \n",
      "2020-02-25       0      11      14       17    322        0    170   \n",
      "2020-02-26       1      11      18       27    453        0    189   \n",
      "2020-02-27       1      13      38       46    655        0    214   \n",
      "2020-02-28       1      14      57       48    888        0    228   \n",
      "2020-02-29       2      20     100       79   1128        0    241   \n",
      "2020-03-01       2      24     130      130   1694        0    256   \n",
      "2020-03-02       2      27     191      159   2036        0    274   \n",
      "2020-03-03       2      30     204      196   2502        0    293   \n",
      "2020-03-04       4      33     288      262   3089        0    331   \n",
      "2020-03-05       4      37     380      482   3858        0    360   \n",
      "2020-03-06      13      49     656      670   4636        0    420   \n",
      "2020-03-07      13      54     957      799   5883        0    461   \n",
      "2020-03-08      20      64    1134     1040   7375        0    502   \n",
      "2020-03-09      25      77    1217     1176   9172        0    511   \n",
      "2020-03-10      31      79    1792     1457  10149        0    581   \n",
      "2020-03-11      38     108    2290     1908  12462        1    639   \n",
      "2020-03-12      52     117    2290     2078  12462        2    639   \n",
      "2020-03-13     151     193    3678     3675  17660        8    701   \n",
      "2020-03-14     151     198    4487     4585  21157        8    773   \n",
      "2020-03-15     162     252    4523     5795  24747       10    839   \n",
      "2020-03-16     200     415    6668     7272  27980       10    825   \n",
      "2020-03-17     321     478    7699     9257  31506       12    878   \n",
      "2020-03-18     372     657    9105    12327  35713       13    889   \n",
      "2020-03-19     621     800   10945    15320  41035       15    924   \n",
      "\n",
      "            Korea, South  Mexico  Spain  United Kingdom  \n",
      "Date                                                     \n",
      "2020-01-22             1       0      0               0  \n",
      "2020-01-23             1       0      0               0  \n",
      "2020-01-24             2       0      0               0  \n",
      "2020-01-25             2       0      0               0  \n",
      "2020-01-26             3       0      0               0  \n",
      "2020-01-27             4       0      0               0  \n",
      "2020-01-28             4       0      0               0  \n",
      "2020-01-29             4       0      0               0  \n",
      "2020-01-30             4       0      0               0  \n",
      "2020-01-31            11       0      0               2  \n",
      "2020-02-01            12       0      1               2  \n",
      "2020-02-02            15       0      1               2  \n",
      "2020-02-03            15       0      1               2  \n",
      "2020-02-04            16       0      1               2  \n",
      "2020-02-05            19       0      1               2  \n",
      "2020-02-06            23       0      1               2  \n",
      "2020-02-07            24       0      1               3  \n",
      "2020-02-08            24       0      1               3  \n",
      "2020-02-09            25       0      2               3  \n",
      "2020-02-10            27       0      2               8  \n",
      "2020-02-11            28       0      2               8  \n",
      "2020-02-12            28       0      2               9  \n",
      "2020-02-13            28       0      2               9  \n",
      "2020-02-14            28       0      2               9  \n",
      "2020-02-15            28       0      2               9  \n",
      "2020-02-16            29       0      2               9  \n",
      "2020-02-17            30       0      2               9  \n",
      "2020-02-18            31       0      2               9  \n",
      "2020-02-19            31       0      2               9  \n",
      "2020-02-20           104       0      2               9  \n",
      "2020-02-21           204       0      2               9  \n",
      "2020-02-22           433       0      2               9  \n",
      "2020-02-23           602       0      2               9  \n",
      "2020-02-24           833       0      2              13  \n",
      "2020-02-25           977       0      6              13  \n",
      "2020-02-26          1261       0     13              13  \n",
      "2020-02-27          1766       0     15              15  \n",
      "2020-02-28          2337       1     32              20  \n",
      "2020-02-29          3150       4     45              23  \n",
      "2020-03-01          3736       5     84              36  \n",
      "2020-03-02          4335       5    120              40  \n",
      "2020-03-03          5186       5    165              51  \n",
      "2020-03-04          5621       5    222              86  \n",
      "2020-03-05          6088       5    259             116  \n",
      "2020-03-06          6593       6    400             164  \n",
      "2020-03-07          7041       6    500             207  \n",
      "2020-03-08          7314       7    673             274  \n",
      "2020-03-09          7478       7   1073             322  \n",
      "2020-03-10          7513       7   1695             384  \n",
      "2020-03-11          7755       8   2277             459  \n",
      "2020-03-12          7869      12   2277             459  \n",
      "2020-03-13          7979      12   5232             802  \n",
      "2020-03-14          8086      26   6391            1144  \n",
      "2020-03-15          8162      41   7798            1145  \n",
      "2020-03-16          8236      53   9942            1551  \n",
      "2020-03-17          8320      82  11748            1960  \n",
      "2020-03-18          8413      93  13910            2642  \n",
      "2020-03-19          8565     118  17963            2714  \n"
     ]
    }
   ],
   "source": [
    "features = pd.read_csv('Train_1.csv', header=0, index_col=0)\n",
    "target = pd.read_csv('Test_1.csv', header=0, index_col=0)\n",
    "target_plt=target\n",
    "print(features)"
   ]
  },
  {
   "cell_type": "code",
   "execution_count": 3,
   "metadata": {},
   "outputs": [
    {
     "name": "stdout",
     "output_type": "stream",
     "text": [
      "               US\n",
      "Date             \n",
      "2020-01-23      0\n",
      "2020-01-24      0\n",
      "2020-01-25      0\n",
      "2020-01-26      0\n",
      "2020-01-27      0\n",
      "2020-01-28      0\n",
      "2020-01-29      0\n",
      "2020-01-30      0\n",
      "2020-01-31      0\n",
      "2020-02-01      0\n",
      "2020-02-02      0\n",
      "2020-02-03      0\n",
      "2020-02-04      0\n",
      "2020-02-05      0\n",
      "2020-02-06      0\n",
      "2020-02-07      0\n",
      "2020-02-08      0\n",
      "2020-02-09      0\n",
      "2020-02-10      0\n",
      "2020-02-11      0\n",
      "2020-02-12      0\n",
      "2020-02-13      0\n",
      "2020-02-14      0\n",
      "2020-02-15      0\n",
      "2020-02-16      0\n",
      "2020-02-17      0\n",
      "2020-02-18      0\n",
      "2020-02-19      0\n",
      "2020-02-20      0\n",
      "2020-02-21      0\n",
      "2020-02-22      0\n",
      "2020-02-23      0\n",
      "2020-02-24     36\n",
      "2020-02-25     36\n",
      "2020-02-26     42\n",
      "2020-02-27     42\n",
      "2020-02-28     44\n",
      "2020-02-29     44\n",
      "2020-03-01     44\n",
      "2020-03-02     45\n",
      "2020-03-03     45\n",
      "2020-03-04     45\n",
      "2020-03-05     45\n",
      "2020-03-06     45\n",
      "2020-03-07     66\n",
      "2020-03-08     66\n",
      "2020-03-09     66\n",
      "2020-03-10    959\n",
      "2020-03-11   1281\n",
      "2020-03-12   1663\n",
      "2020-03-13   2179\n",
      "2020-03-14   2727\n",
      "2020-03-15   3499\n",
      "2020-03-16   4632\n",
      "2020-03-17   6421\n",
      "2020-03-18   7783\n",
      "2020-03-19  13677\n",
      "2020-03-20  19101\n"
     ]
    }
   ],
   "source": [
    "print(target)"
   ]
  },
  {
   "cell_type": "code",
   "execution_count": 4,
   "metadata": {},
   "outputs": [],
   "source": [
    "#Clean up data convert to numpy\n",
    "dataset = features.values\n",
    "dataset = dataset.astype('float32')\n",
    "\n",
    "target = target.values\n",
    "target = target.astype('float32')"
   ]
  },
  {
   "cell_type": "markdown",
   "metadata": {},
   "source": [
    "Prepare data"
   ]
  },
  {
   "cell_type": "code",
   "execution_count": 5,
   "metadata": {},
   "outputs": [],
   "source": [
    "scler = StandardScaler()\n",
    "dataset = scler.fit_transform(dataset)\n",
    "target = scler.fit_transform(target)\n",
    "target=target.transpose()[0]"
   ]
  },
  {
   "cell_type": "markdown",
   "metadata": {},
   "source": [
    "Select look back days and future train days."
   ]
  },
  {
   "cell_type": "code",
   "execution_count": 6,
   "metadata": {},
   "outputs": [],
   "source": [
    "Lookback=14\n",
    "future=7"
   ]
  },
  {
   "cell_type": "markdown",
   "metadata": {},
   "source": [
    "Prepare input data\n"
   ]
  },
  {
   "cell_type": "code",
   "execution_count": 7,
   "metadata": {},
   "outputs": [],
   "source": [
    "train_dataset=[]\n",
    "train_target=[]\n",
    "val_dataset=[]\n",
    "val_train_target=[]\n",
    "for index, x in enumerate(dataset):\n",
    "  if index < len(dataset)-Lookback-future:\n",
    "    train_dataset.append(dataset[index:index+Lookback])\n",
    "    train_target.append(target[index+Lookback:index+Lookback+future])\n",
    "  else:\n",
    "    val_dataset.append(dataset[index:index+Lookback])\n",
    "    val_train_target.append(target[index+Lookback:index+Lookback+future])\n",
    "    break\n",
    "    \n",
    "train_dataset=np.array(train_dataset)\n",
    "val_dataset=np.array(val_dataset)\n",
    "\n",
    "train_target=np.array(train_target)\n",
    "val_train_target=np.array(val_train_target)"
   ]
  },
  {
   "cell_type": "markdown",
   "metadata": {},
   "source": [
    "Prepare model... added relu layer in between.. didn have much time for tuning.. used mse as loss function because more robust.. use early stopping to prevent overfitting....."
   ]
  },
  {
   "cell_type": "code",
   "execution_count": 36,
   "metadata": {},
   "outputs": [],
   "source": [
    "Model = tf.keras.models.Sequential()\n",
    "callback = tf.keras.callbacks.EarlyStopping(\n",
    "    monitor='val_loss', min_delta=0.0001, patience=30, verbose=0, mode='auto',\n",
    "    baseline=None, restore_best_weights=False\n",
    ")\n",
    "Model.add(tf.keras.layers.LSTM(14,return_sequences=True, input_shape=train_dataset.shape[-2:]))\n",
    "Model.add(tf.keras.layers.LSTM(8, activation='relu'))\n",
    "Model.add(tf.keras.layers.Dense(7))\n",
    "Model.compile(optimizer=tf.keras.optimizers.RMSprop(learning_rate=0.001, rho=0.92), loss='mse')"
   ]
  },
  {
   "cell_type": "markdown",
   "metadata": {},
   "source": [
    "Model fitting.."
   ]
  },
  {
   "cell_type": "code",
   "execution_count": 79,
   "metadata": {},
   "outputs": [
    {
     "name": "stdout",
     "output_type": "stream",
     "text": [
      "Train on 37 samples, validate on 1 samples\n",
      "Epoch 1/4000\n",
      "37/37 [==============================] - 0s 673us/sample - loss: 0.0034 - val_loss: 0.1721\n",
      "Epoch 2/4000\n",
      "37/37 [==============================] - 0s 647us/sample - loss: 0.0043 - val_loss: 0.3053\n",
      "Epoch 3/4000\n",
      "37/37 [==============================] - 0s 620us/sample - loss: 0.0022 - val_loss: 0.2554\n",
      "Epoch 4/4000\n",
      "37/37 [==============================] - 0s 701us/sample - loss: 0.0064 - val_loss: 0.2861\n",
      "Epoch 5/4000\n",
      "37/37 [==============================] - 0s 701us/sample - loss: 0.0029 - val_loss: 0.2340\n",
      "Epoch 6/4000\n",
      "37/37 [==============================] - 0s 647us/sample - loss: 0.0016 - val_loss: 0.2438\n",
      "Epoch 7/4000\n",
      "37/37 [==============================] - 0s 647us/sample - loss: 0.0016 - val_loss: 0.2444\n",
      "Epoch 8/4000\n",
      "37/37 [==============================] - 0s 674us/sample - loss: 0.0015 - val_loss: 0.2452\n",
      "Epoch 9/4000\n",
      "37/37 [==============================] - 0s 646us/sample - loss: 0.0015 - val_loss: 0.2457\n",
      "Epoch 10/4000\n",
      "37/37 [==============================] - 0s 647us/sample - loss: 0.0016 - val_loss: 0.2501\n",
      "Epoch 11/4000\n",
      "37/37 [==============================] - 0s 647us/sample - loss: 0.0015 - val_loss: 0.2454\n",
      "Epoch 12/4000\n",
      "37/37 [==============================] - 0s 674us/sample - loss: 0.0015 - val_loss: 0.2547\n",
      "Epoch 13/4000\n",
      "37/37 [==============================] - 0s 620us/sample - loss: 0.0016 - val_loss: 0.2337\n",
      "Epoch 14/4000\n",
      "37/37 [==============================] - 0s 647us/sample - loss: 0.0023 - val_loss: 0.2104\n",
      "Epoch 15/4000\n",
      "37/37 [==============================] - 0s 620us/sample - loss: 0.0042 - val_loss: 0.3087\n",
      "Epoch 16/4000\n",
      "37/37 [==============================] - 0s 647us/sample - loss: 0.0020 - val_loss: 0.2454\n",
      "Epoch 17/4000\n",
      "37/37 [==============================] - 0s 647us/sample - loss: 0.0017 - val_loss: 0.2700\n",
      "Epoch 18/4000\n",
      "37/37 [==============================] - 0s 674us/sample - loss: 0.0016 - val_loss: 0.2581\n",
      "Epoch 19/4000\n",
      "37/37 [==============================] - 0s 647us/sample - loss: 0.0015 - val_loss: 0.2412\n",
      "Epoch 20/4000\n",
      "37/37 [==============================] - 0s 701us/sample - loss: 0.0016 - val_loss: 0.2529\n",
      "Epoch 21/4000\n",
      "37/37 [==============================] - 0s 674us/sample - loss: 0.0018 - val_loss: 0.2273\n",
      "Epoch 22/4000\n",
      "37/37 [==============================] - 0s 647us/sample - loss: 0.0111 - val_loss: 0.2620\n",
      "Epoch 23/4000\n",
      "37/37 [==============================] - 0s 674us/sample - loss: 0.0019 - val_loss: 0.2633\n",
      "Epoch 24/4000\n",
      "37/37 [==============================] - 0s 647us/sample - loss: 0.0015 - val_loss: 0.2609\n",
      "Epoch 25/4000\n",
      "37/37 [==============================] - 0s 620us/sample - loss: 0.0015 - val_loss: 0.2492\n",
      "Epoch 26/4000\n",
      "37/37 [==============================] - 0s 647us/sample - loss: 0.0015 - val_loss: 0.2572\n",
      "Epoch 27/4000\n",
      "37/37 [==============================] - 0s 647us/sample - loss: 0.0015 - val_loss: 0.2534\n",
      "Epoch 28/4000\n",
      "37/37 [==============================] - 0s 674us/sample - loss: 0.0015 - val_loss: 0.2390\n",
      "Epoch 29/4000\n",
      "37/37 [==============================] - 0s 647us/sample - loss: 0.0015 - val_loss: 0.2219\n",
      "Epoch 30/4000\n",
      "37/37 [==============================] - 0s 647us/sample - loss: 0.0030 - val_loss: 0.2504\n",
      "Epoch 31/4000\n",
      "37/37 [==============================] - 0s 620us/sample - loss: 0.0019 - val_loss: 0.2239\n"
     ]
    }
   ],
   "source": [
    "Model_history = Model.fit(train_dataset,train_target, epochs=4000,callbacks=[callback],validation_data=(val_dataset,val_train_target))\n",
    "Val_predict =Model.predict(val_dataset)"
   ]
  },
  {
   "cell_type": "code",
   "execution_count": null,
   "metadata": {},
   "outputs": [],
   "source": [
    "Prediction..."
   ]
  },
  {
   "cell_type": "code",
   "execution_count": 80,
   "metadata": {},
   "outputs": [],
   "source": [
    "Val_predict= scler.inverse_transform(Val_predict[0])\n",
    "Val_True= scler.inverse_transform(val_train_target)\n"
   ]
  },
  {
   "cell_type": "code",
   "execution_count": 87,
   "metadata": {},
   "outputs": [
    {
     "data": {
      "text/plain": [
       "<matplotlib.legend.Legend at 0x1a407b2ad48>"
      ]
     },
     "execution_count": 87,
     "metadata": {},
     "output_type": "execute_result"
    },
    {
     "data": {
      "image/png": "[encoded data removed]",
      "text/plain": [
       "<Figure size 432x288 with 1 Axes>"
      ]
     },
     "metadata": {
      "needs_background": "light"
     },
     "output_type": "display_data"
    }
   ],
   "source": [
    "date1 = '2020-01-23'\n",
    "date2 = '2020-03-20'\n",
    "datelist = pd.date_range(date1, date2)\n",
    "projectlist=pd.date_range('2020-03-14', '2020-03-20')\n",
    "plt.plot(datelist,target_plt['US'],label = \"Observed Infection Rate\")\n",
    "plt.plot(projectlist,Val_predict,marker='o',label = \"Predicted Infection Rate\")\n",
    "plt.legend(loc=\"upper left\")\n"
   ]
  },
  {
   "cell_type": "code",
   "execution_count": null,
   "metadata": {},
   "outputs": [],
   "source": []
  }
 ],
 "metadata": {
  "kernelspec": {
   "display_name": "Python 3",
   "language": "python",
   "name": "python3"
  },
  "language_info": {
   "codemirror_mode": {
    "name": "ipython",
    "version": 3
   },
   "file_extension": ".py",
   "mimetype": "text/x-python",
   "name": "python",
   "nbconvert_exporter": "python",
   "pygments_lexer": "ipython3",
   "version": "3.7.6"
  }
 },
 "nbformat": 4,
 "nbformat_minor": 4
}
